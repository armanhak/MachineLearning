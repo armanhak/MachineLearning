{
 "cells": [
  {
   "cell_type": "markdown",
   "metadata": {},
   "source": [
    "<b>Обучить модели</b> <br> 1)random forests,<br> 2) gradient boosted trees. <br>Построить графики зависимости ошибки (на тестовой и обучающейся выборках, а также oob-ошибку) от количества используемых деревьев. Наблюдается ли переобучение/недообучение? Найти значимости признаков. Сделать выводы. Сделать общие выводы по всем лабам. Какой метод оказался лучшим?\n"
   ]
  },
  {
   "cell_type": "code",
   "execution_count": 1,
   "metadata": {},
   "outputs": [],
   "source": [
    "import pandas as pd\n",
    "import numpy as np\n",
    "import seaborn as sns\n",
    "\n",
    "import matplotlib.pyplot as plt\n",
    "from tqdm import tqdm_notebook\n",
    "sns.set(font_scale=1.4)\n",
    "from sklearn.model_selection import train_test_split\n",
    "import warnings \n",
    "warnings.filterwarnings('ignore')"
   ]
  },
  {
   "cell_type": "markdown",
   "metadata": {},
   "source": [
    "В этом ноутбуе будем работать с данными, которые обработали в ноутуке income-classification (1).ipynb"
   ]
  },
  {
   "cell_type": "code",
   "execution_count": 2,
   "metadata": {},
   "outputs": [
    {
     "name": "stdout",
     "output_type": "stream",
     "text": [
      "(28970, 88)\n"
     ]
    },
    {
     "data": {
      "text/html": [
       "<div>\n",
       "<style scoped>\n",
       "    .dataframe tbody tr th:only-of-type {\n",
       "        vertical-align: middle;\n",
       "    }\n",
       "\n",
       "    .dataframe tbody tr th {\n",
       "        vertical-align: top;\n",
       "    }\n",
       "\n",
       "    .dataframe thead th {\n",
       "        text-align: right;\n",
       "    }\n",
       "</style>\n",
       "<table border=\"1\" class=\"dataframe\">\n",
       "  <thead>\n",
       "    <tr style=\"text-align: right;\">\n",
       "      <th></th>\n",
       "      <th>age</th>\n",
       "      <th>education-num</th>\n",
       "      <th>sex</th>\n",
       "      <th>capital-gain</th>\n",
       "      <th>capital-loss</th>\n",
       "      <th>hours-per-week</th>\n",
       "      <th>income</th>\n",
       "      <th>x0_Federal-gov</th>\n",
       "      <th>x0_Local-gov</th>\n",
       "      <th>x0_Never-worked</th>\n",
       "      <th>...</th>\n",
       "      <th>x5_Portugal</th>\n",
       "      <th>x5_Puerto-Rico</th>\n",
       "      <th>x5_Scotland</th>\n",
       "      <th>x5_South</th>\n",
       "      <th>x5_Taiwan</th>\n",
       "      <th>x5_Thailand</th>\n",
       "      <th>x5_Trinadad&amp;Tobago</th>\n",
       "      <th>x5_United-States</th>\n",
       "      <th>x5_Vietnam</th>\n",
       "      <th>x5_Yugoslavia</th>\n",
       "    </tr>\n",
       "  </thead>\n",
       "  <tbody>\n",
       "    <tr>\n",
       "      <th>0</th>\n",
       "      <td>0.301370</td>\n",
       "      <td>0.800000</td>\n",
       "      <td>1.0</td>\n",
       "      <td>0.02174</td>\n",
       "      <td>0.0</td>\n",
       "      <td>0.397959</td>\n",
       "      <td>0.0</td>\n",
       "      <td>0.0</td>\n",
       "      <td>0.0</td>\n",
       "      <td>0.0</td>\n",
       "      <td>...</td>\n",
       "      <td>0.0</td>\n",
       "      <td>0.0</td>\n",
       "      <td>0.0</td>\n",
       "      <td>0.0</td>\n",
       "      <td>0.0</td>\n",
       "      <td>0.0</td>\n",
       "      <td>0.0</td>\n",
       "      <td>1.0</td>\n",
       "      <td>0.0</td>\n",
       "      <td>0.0</td>\n",
       "    </tr>\n",
       "    <tr>\n",
       "      <th>1</th>\n",
       "      <td>0.452055</td>\n",
       "      <td>0.800000</td>\n",
       "      <td>1.0</td>\n",
       "      <td>0.00000</td>\n",
       "      <td>0.0</td>\n",
       "      <td>0.122449</td>\n",
       "      <td>0.0</td>\n",
       "      <td>0.0</td>\n",
       "      <td>0.0</td>\n",
       "      <td>0.0</td>\n",
       "      <td>...</td>\n",
       "      <td>0.0</td>\n",
       "      <td>0.0</td>\n",
       "      <td>0.0</td>\n",
       "      <td>0.0</td>\n",
       "      <td>0.0</td>\n",
       "      <td>0.0</td>\n",
       "      <td>0.0</td>\n",
       "      <td>1.0</td>\n",
       "      <td>0.0</td>\n",
       "      <td>0.0</td>\n",
       "    </tr>\n",
       "    <tr>\n",
       "      <th>2</th>\n",
       "      <td>0.287671</td>\n",
       "      <td>0.533333</td>\n",
       "      <td>1.0</td>\n",
       "      <td>0.00000</td>\n",
       "      <td>0.0</td>\n",
       "      <td>0.397959</td>\n",
       "      <td>0.0</td>\n",
       "      <td>0.0</td>\n",
       "      <td>0.0</td>\n",
       "      <td>0.0</td>\n",
       "      <td>...</td>\n",
       "      <td>0.0</td>\n",
       "      <td>0.0</td>\n",
       "      <td>0.0</td>\n",
       "      <td>0.0</td>\n",
       "      <td>0.0</td>\n",
       "      <td>0.0</td>\n",
       "      <td>0.0</td>\n",
       "      <td>1.0</td>\n",
       "      <td>0.0</td>\n",
       "      <td>0.0</td>\n",
       "    </tr>\n",
       "    <tr>\n",
       "      <th>3</th>\n",
       "      <td>0.493151</td>\n",
       "      <td>0.400000</td>\n",
       "      <td>1.0</td>\n",
       "      <td>0.00000</td>\n",
       "      <td>0.0</td>\n",
       "      <td>0.397959</td>\n",
       "      <td>0.0</td>\n",
       "      <td>0.0</td>\n",
       "      <td>0.0</td>\n",
       "      <td>0.0</td>\n",
       "      <td>...</td>\n",
       "      <td>0.0</td>\n",
       "      <td>0.0</td>\n",
       "      <td>0.0</td>\n",
       "      <td>0.0</td>\n",
       "      <td>0.0</td>\n",
       "      <td>0.0</td>\n",
       "      <td>0.0</td>\n",
       "      <td>1.0</td>\n",
       "      <td>0.0</td>\n",
       "      <td>0.0</td>\n",
       "    </tr>\n",
       "    <tr>\n",
       "      <th>4</th>\n",
       "      <td>0.150685</td>\n",
       "      <td>0.800000</td>\n",
       "      <td>0.0</td>\n",
       "      <td>0.00000</td>\n",
       "      <td>0.0</td>\n",
       "      <td>0.397959</td>\n",
       "      <td>0.0</td>\n",
       "      <td>0.0</td>\n",
       "      <td>0.0</td>\n",
       "      <td>0.0</td>\n",
       "      <td>...</td>\n",
       "      <td>0.0</td>\n",
       "      <td>0.0</td>\n",
       "      <td>0.0</td>\n",
       "      <td>0.0</td>\n",
       "      <td>0.0</td>\n",
       "      <td>0.0</td>\n",
       "      <td>0.0</td>\n",
       "      <td>0.0</td>\n",
       "      <td>0.0</td>\n",
       "      <td>0.0</td>\n",
       "    </tr>\n",
       "  </tbody>\n",
       "</table>\n",
       "<p>5 rows × 88 columns</p>\n",
       "</div>"
      ],
      "text/plain": [
       "        age  education-num  sex  capital-gain  capital-loss  hours-per-week  \\\n",
       "0  0.301370       0.800000  1.0       0.02174           0.0        0.397959   \n",
       "1  0.452055       0.800000  1.0       0.00000           0.0        0.122449   \n",
       "2  0.287671       0.533333  1.0       0.00000           0.0        0.397959   \n",
       "3  0.493151       0.400000  1.0       0.00000           0.0        0.397959   \n",
       "4  0.150685       0.800000  0.0       0.00000           0.0        0.397959   \n",
       "\n",
       "   income  x0_Federal-gov  x0_Local-gov  x0_Never-worked  ...  x5_Portugal  \\\n",
       "0     0.0             0.0           0.0              0.0  ...          0.0   \n",
       "1     0.0             0.0           0.0              0.0  ...          0.0   \n",
       "2     0.0             0.0           0.0              0.0  ...          0.0   \n",
       "3     0.0             0.0           0.0              0.0  ...          0.0   \n",
       "4     0.0             0.0           0.0              0.0  ...          0.0   \n",
       "\n",
       "   x5_Puerto-Rico  x5_Scotland  x5_South  x5_Taiwan  x5_Thailand  \\\n",
       "0             0.0          0.0       0.0        0.0          0.0   \n",
       "1             0.0          0.0       0.0        0.0          0.0   \n",
       "2             0.0          0.0       0.0        0.0          0.0   \n",
       "3             0.0          0.0       0.0        0.0          0.0   \n",
       "4             0.0          0.0       0.0        0.0          0.0   \n",
       "\n",
       "   x5_Trinadad&Tobago  x5_United-States  x5_Vietnam  x5_Yugoslavia  \n",
       "0                 0.0               1.0         0.0            0.0  \n",
       "1                 0.0               1.0         0.0            0.0  \n",
       "2                 0.0               1.0         0.0            0.0  \n",
       "3                 0.0               1.0         0.0            0.0  \n",
       "4                 0.0               0.0         0.0            0.0  \n",
       "\n",
       "[5 rows x 88 columns]"
      ]
     },
     "execution_count": 2,
     "metadata": {},
     "output_type": "execute_result"
    }
   ],
   "source": [
    "df = pd.read_csv('income_preproc.csv')\n",
    "print(df.shape)\n",
    "df.head()\n"
   ]
  },
  {
   "cell_type": "code",
   "execution_count": 3,
   "metadata": {},
   "outputs": [
    {
     "data": {
      "text/plain": [
       "<matplotlib.axes._subplots.AxesSubplot at 0x1ca804d1cf8>"
      ]
     },
     "execution_count": 3,
     "metadata": {},
     "output_type": "execute_result"
    },
    {
     "data": {
      "image/png": "[encoded data removed]",
      "text/plain": [
       "<Figure size 432x288 with 1 Axes>"
      ]
     },
     "metadata": {},
     "output_type": "display_data"
    }
   ],
   "source": [
    "plt.title('Распределение целевой переменной')\n",
    "df['income'].value_counts(normalize=True).plot(kind='bar')"
   ]
  },
  {
   "cell_type": "markdown",
   "metadata": {},
   "source": [
    "Разделим выборку на 70% и 30% обучающую и тестовую соответсвенно."
   ]
  },
  {
   "cell_type": "code",
   "execution_count": 5,
   "metadata": {},
   "outputs": [
    {
     "name": "stdout",
     "output_type": "stream",
     "text": [
      "trainx: (20279, 87)\n",
      "testx: (8691, 87)\n"
     ]
    }
   ],
   "source": [
    "(trainx,\n",
    " testx,\n",
    " trainy,\n",
    " testy) = train_test_split(df.drop('income',axis=1),\n",
    "                                  df['income'],\n",
    "                                  test_size = .3,\n",
    "                                  random_state=18845\n",
    "                          )\n",
    "print(f'trainx: {trainx.shape}\\ntestx: {testx.shape}')"
   ]
  },
  {
   "cell_type": "markdown",
   "metadata": {},
   "source": [
    "# RandomForestClassifier"
   ]
  },
  {
   "cell_type": "code",
   "execution_count": 6,
   "metadata": {},
   "outputs": [],
   "source": [
    "from sklearn.ensemble import RandomForestClassifier\n",
    "from sklearn.model_selection import RepeatedStratifiedKFold\n",
    "from sklearn.model_selection import cross_val_score\n",
    "from sklearn import metrics\n",
    "from sklearn.model_selection import GridSearchCV\n",
    "from sklearn.model_selection import cross_val_score\n"
   ]
  },
  {
   "cell_type": "code",
   "execution_count": 7,
   "metadata": {},
   "outputs": [
    {
     "data": {
      "application/vnd.jupyter.widget-view+json": {
       "model_id": "95b68cddb0a94e02b512abeecd107488",
       "version_major": 2,
       "version_minor": 0
      },
      "text/plain": [
       "HBox(children=(FloatProgress(value=0.0, max=59.0), HTML(value='')))"
      ]
     },
     "metadata": {},
     "output_type": "display_data"
    },
    {
     "name": "stdout",
     "output_type": "stream",
     "text": [
      "\n",
      "Wall time: 4min 43s\n"
     ]
    }
   ],
   "source": [
    "%%time\n",
    "from tqdm import tqdm_notebook\n",
    "from sklearn.metrics import f1_score\n",
    "result = {'model':[],\n",
    "          'n_estimator':[],\n",
    "          'train_f1':[], \n",
    "          'test_f1':[], \n",
    "          'oob':[], \n",
    "          }\n",
    "for n_estimator in tqdm_notebook(range(10,305,5)):\n",
    "    model = RandomForestClassifier(n_estimators=n_estimator, \n",
    "                                   class_weight='balanced',\n",
    "                                   oob_score=True,\n",
    "                                   n_jobs=-1,\n",
    "                                   random_state = 42,\n",
    "                                   verbose=0)\n",
    "    model.fit(trainx,trainy)\n",
    "    result['model'].append('RandomForest')\n",
    "    result['n_estimator'].append(n_estimator)\n",
    "    result['train_f1'].append(round(f1_score(trainy,model.predict(trainx)),3))\n",
    "    result['test_f1'].append(round(f1_score(testy,model.predict(testx)),3))\n",
    "    result['oob'].append(model.oob_score_)\n",
    "r = pd.DataFrame(result)"
   ]
  },
  {
   "cell_type": "code",
   "execution_count": 9,
   "metadata": {},
   "outputs": [
    {
     "data": {
      "image/png": "[encoded data removed]",
      "text/plain": [
       "<Figure size 1152x720 with 3 Axes>"
      ]
     },
     "metadata": {},
     "output_type": "display_data"
    }
   ],
   "source": [
    "plt.figure(figsize=(16,10))\n",
    "plt.subplot(221)\n",
    "plt.title('Ошибка на обучающей выборке')\n",
    "sns.lineplot(x = r['n_estimator'], y=1-r['train_f1'])\n",
    "plt.ylabel('error')\n",
    "\n",
    "plt.subplot(222)\n",
    "plt.title('Ошибка на тестовой выборке')\n",
    "sns.lineplot(x = r['n_estimator'], y=1-r['test_f1'])\n",
    "plt.ylabel('error')\n",
    "\n",
    "plt.subplot(212)\n",
    "plt.title('OOB ошибка')\n",
    "sns.lineplot(x = r['n_estimator'], y=1 - r['oob'])\n",
    "plt.ylabel('oob error')\n",
    "\n",
    "plt.show()"
   ]
  },
  {
   "cell_type": "markdown",
   "metadata": {},
   "source": [
    "Из верхних двух графикаов видно, что модель сильно переобучается. На обучающей выборке ошибка не перевышает 0.06, а на тестовой выборке ошибка не ниже 0.36.\n",
    "Переобучение можно обяснить тем, что целевая переменная не сбалансирована и для обучения используется много признаков (после OneHotEncoding, их стало 88). Кроме этого возомжной причиной переобучения может быть глубина дерева, которую не подбирали.\n",
    "\n",
    "А в целом с ростом количества деревьев в ансамбле, уменьшеается ошибка"
   ]
  },
  {
   "cell_type": "markdown",
   "metadata": {},
   "source": [
    "Дальше попробуем подбирать гиперпараметры с помощью Байесовской оптимизации"
   ]
  },
  {
   "cell_type": "markdown",
   "metadata": {},
   "source": [
    "## Bayesian optimization "
   ]
  },
  {
   "cell_type": "code",
   "execution_count": 58,
   "metadata": {},
   "outputs": [],
   "source": [
    "#Bayesian optimization\n",
    "from bayes_opt import BayesianOptimization\n",
    "def bayesian_optimization(dataset, function, parameters):\n",
    "    X_train, y_train, X_test, y_test = dataset\n",
    "    n_iterations = 5\n",
    "    gp_params = {\"alpha\": 1e-4}\n",
    "\n",
    "    BO = BayesianOptimization(function, parameters)\n",
    "    BO.maximize(n_iter=n_iterations, **gp_params)\n",
    "    return BO.max\n",
    "def rfc_optimization(cv_splits):\n",
    "    def function(n_estimators, max_depth, min_samples_split, max_features):\n",
    "        return cross_val_score(\n",
    "               RandomForestClassifier(\n",
    "                   n_estimators=int(max(n_estimators,0)),                                                               \n",
    "                   max_depth=int(max(max_depth,1)),\n",
    "                   min_samples_split=int(max(min_samples_split,2)), \n",
    "                   max_features = int(max_features),\n",
    "                   n_jobs=-1, \n",
    "                   random_state=42,   \n",
    "                   class_weight=\"balanced\"\n",
    "               ),  \n",
    "               X=trainx, \n",
    "               y=trainy, \n",
    "               cv=cv_splits,\n",
    "               scoring=\"f1\",\n",
    "               n_jobs=-1).mean()\n",
    "\n",
    "    parameters = {\"n_estimators\": (100, 300),\n",
    "                  \"max_depth\": (1, 150),\n",
    "                  \"min_samples_split\": (2, 20),\n",
    "                  'max_features':(8,88),\n",
    "                 }\n",
    "    \n",
    "    return function, parameters\n",
    "\n",
    "def train(X_train, y_train, X_test, y_test, function, parameters):\n",
    "    dataset = (X_train, y_train, X_test, y_test)\n",
    "    cv_splits = 4\n",
    "    \n",
    "    best_solution = bayesian_optimization(dataset, function, parameters)      \n",
    "    params = best_solution[\"params\"]\n",
    "\n",
    "    model = RandomForestClassifier(\n",
    "             n_estimators=int(max(params[\"n_estimators\"], 0)),\n",
    "             max_depth=int(max(params[\"max_depth\"], 1)),\n",
    "             min_samples_split=int(max(params[\"min_samples_split\"], 2)), \n",
    "             max_features = int(params['max_features']),\n",
    "             n_jobs=-1, \n",
    "             random_state=42,   \n",
    "             class_weight=\"balanced\")\n",
    "\n",
    "    model.fit(X_train, y_train)\n",
    "    \n",
    "    return model"
   ]
  },
  {
   "cell_type": "code",
   "execution_count": 12,
   "metadata": {},
   "outputs": [
    {
     "name": "stdout",
     "output_type": "stream",
     "text": [
      "|   iter    |  target   | max_depth | max_fe... | min_sa... | n_esti... |\n",
      "-------------------------------------------------------------------------\n",
      "| \u001b[0m 1       \u001b[0m | \u001b[0m 0.7135  \u001b[0m | \u001b[0m 147.7   \u001b[0m | \u001b[0m 51.72   \u001b[0m | \u001b[0m 19.7    \u001b[0m | \u001b[0m 178.4   \u001b[0m |\n",
      "| \u001b[0m 2       \u001b[0m | \u001b[0m 0.7098  \u001b[0m | \u001b[0m 140.8   \u001b[0m | \u001b[0m 64.59   \u001b[0m | \u001b[0m 17.97   \u001b[0m | \u001b[0m 146.8   \u001b[0m |\n",
      "| \u001b[95m 3       \u001b[0m | \u001b[95m 0.7154  \u001b[0m | \u001b[95m 55.71   \u001b[0m | \u001b[95m 11.96   \u001b[0m | \u001b[95m 16.82   \u001b[0m | \u001b[95m 236.1   \u001b[0m |\n",
      "| \u001b[95m 4       \u001b[0m | \u001b[95m 0.7161  \u001b[0m | \u001b[95m 66.08   \u001b[0m | \u001b[95m 21.62   \u001b[0m | \u001b[95m 18.17   \u001b[0m | \u001b[95m 116.9   \u001b[0m |\n",
      "| \u001b[0m 5       \u001b[0m | \u001b[0m 0.6635  \u001b[0m | \u001b[0m 129.5   \u001b[0m | \u001b[0m 82.97   \u001b[0m | \u001b[0m 3.845   \u001b[0m | \u001b[0m 237.3   \u001b[0m |\n",
      "| \u001b[0m 6       \u001b[0m | \u001b[0m 0.713   \u001b[0m | \u001b[0m 145.6   \u001b[0m | \u001b[0m 10.36   \u001b[0m | \u001b[0m 12.18   \u001b[0m | \u001b[0m 102.6   \u001b[0m |\n",
      "| \u001b[0m 7       \u001b[0m | \u001b[0m 0.6012  \u001b[0m | \u001b[0m 1.735   \u001b[0m | \u001b[0m 31.9    \u001b[0m | \u001b[0m 15.7    \u001b[0m | \u001b[0m 103.0   \u001b[0m |\n",
      "| \u001b[0m 8       \u001b[0m | \u001b[0m 0.7147  \u001b[0m | \u001b[0m 150.0   \u001b[0m | \u001b[0m 8.0     \u001b[0m | \u001b[0m 20.0    \u001b[0m | \u001b[0m 300.0   \u001b[0m |\n",
      "| \u001b[0m 9       \u001b[0m | \u001b[0m 0.7143  \u001b[0m | \u001b[0m 19.95   \u001b[0m | \u001b[0m 86.12   \u001b[0m | \u001b[0m 19.42   \u001b[0m | \u001b[0m 299.1   \u001b[0m |\n",
      "| \u001b[0m 10      \u001b[0m | \u001b[0m 0.6617  \u001b[0m | \u001b[0m 8.747   \u001b[0m | \u001b[0m 10.87   \u001b[0m | \u001b[0m 19.64   \u001b[0m | \u001b[0m 294.9   \u001b[0m |\n",
      "=========================================================================\n"
     ]
    }
   ],
   "source": [
    "f, p = rfc_optimization(4)\n",
    "model = train(trainx ,trainy,testx,testy, f,p)"
   ]
  },
  {
   "cell_type": "code",
   "execution_count": 13,
   "metadata": {},
   "outputs": [
    {
     "data": {
      "text/plain": [
       "0.827"
      ]
     },
     "execution_count": 13,
     "metadata": {},
     "output_type": "execute_result"
    }
   ],
   "source": [
    "from sklearn.metrics import f1_score\n",
    "round(f1_score(trainy, model.predict(trainx)),3)"
   ]
  },
  {
   "cell_type": "code",
   "execution_count": 14,
   "metadata": {},
   "outputs": [
    {
     "data": {
      "text/plain": [
       "0.706"
      ]
     },
     "execution_count": 14,
     "metadata": {},
     "output_type": "execute_result"
    }
   ],
   "source": [
    "round(f1_score(testy, model.predict(testx)),3)"
   ]
  },
  {
   "cell_type": "markdown",
   "metadata": {},
   "source": [
    "Выводим топ 20 признаков, которые имеют наибольшую важность"
   ]
  },
  {
   "cell_type": "code",
   "execution_count": 15,
   "metadata": {},
   "outputs": [
    {
     "data": {
      "text/html": [
       "<div>\n",
       "<style scoped>\n",
       "    .dataframe tbody tr th:only-of-type {\n",
       "        vertical-align: middle;\n",
       "    }\n",
       "\n",
       "    .dataframe tbody tr th {\n",
       "        vertical-align: top;\n",
       "    }\n",
       "\n",
       "    .dataframe thead th {\n",
       "        text-align: right;\n",
       "    }\n",
       "</style>\n",
       "<table border=\"1\" class=\"dataframe\">\n",
       "  <thead>\n",
       "    <tr style=\"text-align: right;\">\n",
       "      <th></th>\n",
       "      <th>features</th>\n",
       "      <th>importance</th>\n",
       "    </tr>\n",
       "  </thead>\n",
       "  <tbody>\n",
       "    <tr>\n",
       "      <th>16</th>\n",
       "      <td>x1_Married-civ-spouse</td>\n",
       "      <td>0.148376</td>\n",
       "    </tr>\n",
       "    <tr>\n",
       "      <th>1</th>\n",
       "      <td>education-num</td>\n",
       "      <td>0.127553</td>\n",
       "    </tr>\n",
       "    <tr>\n",
       "      <th>0</th>\n",
       "      <td>age</td>\n",
       "      <td>0.114677</td>\n",
       "    </tr>\n",
       "    <tr>\n",
       "      <th>3</th>\n",
       "      <td>capital-gain</td>\n",
       "      <td>0.112972</td>\n",
       "    </tr>\n",
       "    <tr>\n",
       "      <th>35</th>\n",
       "      <td>x3_Husband</td>\n",
       "      <td>0.104095</td>\n",
       "    </tr>\n",
       "    <tr>\n",
       "      <th>5</th>\n",
       "      <td>hours-per-week</td>\n",
       "      <td>0.076734</td>\n",
       "    </tr>\n",
       "    <tr>\n",
       "      <th>18</th>\n",
       "      <td>x1_Never-married</td>\n",
       "      <td>0.053144</td>\n",
       "    </tr>\n",
       "    <tr>\n",
       "      <th>4</th>\n",
       "      <td>capital-loss</td>\n",
       "      <td>0.033598</td>\n",
       "    </tr>\n",
       "    <tr>\n",
       "      <th>40</th>\n",
       "      <td>x3_Wife</td>\n",
       "      <td>0.020527</td>\n",
       "    </tr>\n",
       "    <tr>\n",
       "      <th>24</th>\n",
       "      <td>x2_Exec-managerial</td>\n",
       "      <td>0.014591</td>\n",
       "    </tr>\n",
       "    <tr>\n",
       "      <th>38</th>\n",
       "      <td>x3_Own-child</td>\n",
       "      <td>0.013968</td>\n",
       "    </tr>\n",
       "    <tr>\n",
       "      <th>2</th>\n",
       "      <td>sex</td>\n",
       "      <td>0.013488</td>\n",
       "    </tr>\n",
       "    <tr>\n",
       "      <th>28</th>\n",
       "      <td>x2_Other-service</td>\n",
       "      <td>0.012549</td>\n",
       "    </tr>\n",
       "    <tr>\n",
       "      <th>36</th>\n",
       "      <td>x3_Not-in-family</td>\n",
       "      <td>0.011398</td>\n",
       "    </tr>\n",
       "    <tr>\n",
       "      <th>30</th>\n",
       "      <td>x2_Prof-specialty</td>\n",
       "      <td>0.009185</td>\n",
       "    </tr>\n",
       "    <tr>\n",
       "      <th>11</th>\n",
       "      <td>x0_Self-emp-not-inc</td>\n",
       "      <td>0.007370</td>\n",
       "    </tr>\n",
       "    <tr>\n",
       "      <th>9</th>\n",
       "      <td>x0_Private</td>\n",
       "      <td>0.007270</td>\n",
       "    </tr>\n",
       "    <tr>\n",
       "      <th>14</th>\n",
       "      <td>x1_Divorced</td>\n",
       "      <td>0.006533</td>\n",
       "    </tr>\n",
       "    <tr>\n",
       "      <th>39</th>\n",
       "      <td>x3_Unmarried</td>\n",
       "      <td>0.006443</td>\n",
       "    </tr>\n",
       "    <tr>\n",
       "      <th>25</th>\n",
       "      <td>x2_Farming-fishing</td>\n",
       "      <td>0.005991</td>\n",
       "    </tr>\n",
       "  </tbody>\n",
       "</table>\n",
       "</div>"
      ],
      "text/plain": [
       "                 features  importance\n",
       "16  x1_Married-civ-spouse    0.148376\n",
       "1           education-num    0.127553\n",
       "0                     age    0.114677\n",
       "3            capital-gain    0.112972\n",
       "35             x3_Husband    0.104095\n",
       "5          hours-per-week    0.076734\n",
       "18       x1_Never-married    0.053144\n",
       "4            capital-loss    0.033598\n",
       "40                x3_Wife    0.020527\n",
       "24     x2_Exec-managerial    0.014591\n",
       "38           x3_Own-child    0.013968\n",
       "2                     sex    0.013488\n",
       "28       x2_Other-service    0.012549\n",
       "36       x3_Not-in-family    0.011398\n",
       "30      x2_Prof-specialty    0.009185\n",
       "11    x0_Self-emp-not-inc    0.007370\n",
       "9              x0_Private    0.007270\n",
       "14            x1_Divorced    0.006533\n",
       "39           x3_Unmarried    0.006443\n",
       "25     x2_Farming-fishing    0.005991"
      ]
     },
     "execution_count": 15,
     "metadata": {},
     "output_type": "execute_result"
    }
   ],
   "source": [
    "imp = pd.DataFrame(zip(trainx.columns,\n",
    "                       model.feature_importances_), \n",
    "                   columns=['features', 'importance'])\n",
    "imp.sort_values(by='importance',ascending=False).head(20)"
   ]
  },
  {
   "cell_type": "code",
   "execution_count": null,
   "metadata": {},
   "outputs": [],
   "source": []
  },
  {
   "cell_type": "markdown",
   "metadata": {},
   "source": [
    "Несмотря на то, что подбирали наилучшие гиперпараметры, модель сильно переобучается. Стоит рабоать с самими данными. Но на этом мы остановимся"
   ]
  },
  {
   "cell_type": "markdown",
   "metadata": {},
   "source": [
    "# GradientBoostingClassifier"
   ]
  },
  {
   "cell_type": "code",
   "execution_count": 25,
   "metadata": {},
   "outputs": [],
   "source": [
    "from sklearn.ensemble import GradientBoostingClassifier\n",
    "for n_estimator in tqdm_notebook(range(10,305,5)):\n",
    "    model = GradientBoostingClassifier(n_estimators=n_estimator, \n",
    "                                       random_state = 2332\n",
    "                                      )\n",
    "    model.fit(trainx,trainy)\n",
    "    result['model'].append('GradientBoostingClassifier')\n",
    "    result['n_estimator'].append(n_estimator)\n",
    "    result['train_f1'].append(round(f1_score(trainy,model.predict(trainx)),3))\n",
    "    result['test_f1'].append(round(f1_score(testy,model.predict(testx)),3))\n",
    "    result['oob'].append(None)\n",
    "r = pd.DataFrame(result)"
   ]
  },
  {
   "cell_type": "code",
   "execution_count": 49,
   "metadata": {},
   "outputs": [
    {
     "data": {
      "text/plain": [
       "Text(0, 0.5, 'error')"
      ]
     },
     "execution_count": 49,
     "metadata": {},
     "output_type": "execute_result"
    },
    {
     "data": {
      "image/png": "[encoded data removed]",
      "text/plain": [
       "<Figure size 1008x360 with 1 Axes>"
      ]
     },
     "metadata": {},
     "output_type": "display_data"
    }
   ],
   "source": [
    "plt.figure(figsize=(14,5))\n",
    "plt.title('Зависимость ошибки от кол-ва деревьев')\n",
    "sns.lineplot(x = r_gbc['n_estimator'], y=1-r_gbc['train_f1'],label='train')\n",
    "sns.lineplot(x = r_gbc['n_estimator'], y=1-r_gbc['test_f1'],label='test',)\n",
    "plt.ylabel('error')"
   ]
  },
  {
   "cell_type": "markdown",
   "metadata": {},
   "source": [
    "Переобучение не наблюдается"
   ]
  },
  {
   "cell_type": "markdown",
   "metadata": {},
   "source": [
    "## GradientBoostingClassifier Bayesian optimization"
   ]
  },
  {
   "cell_type": "code",
   "execution_count": 59,
   "metadata": {},
   "outputs": [],
   "source": [
    "def gbc_optimization(cv_splits):\n",
    "    def function(n_estimators, max_depth, min_samples_split, max_features, learning_rate):\n",
    "        return cross_val_score(\n",
    "               GradientBoostingClassifier(\n",
    "                   n_estimators=int(max(n_estimators,0)),                                                               \n",
    "                   learning_rate=learning_rate,\n",
    "                   min_samples_split=int(max(min_samples_split,2)), \n",
    "                   max_features = int(max_features),\n",
    "                   max_depth = int(max_depth),\n",
    "                   random_state=42,   \n",
    "               ),  \n",
    "               X=trainx, \n",
    "               y=trainy, \n",
    "               cv=cv_splits,\n",
    "               scoring=\"f1\",\n",
    "               n_jobs=-1).mean()\n",
    "\n",
    "    parameters = {\"n_estimators\": (100, 300),\n",
    "                  'max_depth': (2,30),\n",
    "                  \n",
    "                  \"min_samples_split\": (2, 20),\n",
    "                  'max_features':(8,88),\n",
    "                  \"learning_rate\": (0.05, 0.2),\n",
    "                 }\n",
    "    \n",
    "    return function, parameters\n",
    "def train(X_train, y_train, X_test, y_test, function, parameters):\n",
    "    dataset = (X_train, y_train, X_test, y_test)\n",
    "    cv_splits = 4\n",
    "    \n",
    "    best_solution = bayesian_optimization(dataset, function, parameters)      \n",
    "    params = best_solution[\"params\"]\n",
    "    \n",
    "\n",
    "    model = GradientBoostingClassifier(\n",
    "        \n",
    "             n_estimators=int(max(params[\"n_estimators\"], 0)),\n",
    "             max_depth=int(max(params[\"max_depth\"], 1)),\n",
    "             min_samples_split=int(max(params[\"min_samples_split\"], 2)), \n",
    "             max_features = int(params['max_features']),\n",
    "             learning_rate = params['learning_rate'],\n",
    "             random_state=42,   \n",
    "    )\n",
    "\n",
    "    model.fit(X_train, y_train)\n",
    "    return model"
   ]
  },
  {
   "cell_type": "code",
   "execution_count": 60,
   "metadata": {},
   "outputs": [
    {
     "name": "stdout",
     "output_type": "stream",
     "text": [
      "|   iter    |  target   | learni... | max_depth | max_fe... | min_sa... | n_esti... |\n",
      "-------------------------------------------------------------------------------------\n",
      "| \u001b[0m 1       \u001b[0m | \u001b[0m 0.6534  \u001b[0m | \u001b[0m 0.05043 \u001b[0m | \u001b[0m 18.81   \u001b[0m | \u001b[0m 15.09   \u001b[0m | \u001b[0m 4.351   \u001b[0m | \u001b[0m 283.9   \u001b[0m |\n",
      "| \u001b[0m 2       \u001b[0m | \u001b[0m 0.6473  \u001b[0m | \u001b[0m 0.1661  \u001b[0m | \u001b[0m 17.47   \u001b[0m | \u001b[0m 26.42   \u001b[0m | \u001b[0m 14.79   \u001b[0m | \u001b[0m 250.8   \u001b[0m |\n",
      "| \u001b[95m 3       \u001b[0m | \u001b[95m 0.6843  \u001b[0m | \u001b[95m 0.1328  \u001b[0m | \u001b[95m 9.268   \u001b[0m | \u001b[95m 31.87   \u001b[0m | \u001b[95m 16.29   \u001b[0m | \u001b[95m 271.8   \u001b[0m |\n",
      "| \u001b[0m 4       \u001b[0m | \u001b[0m 0.6592  \u001b[0m | \u001b[0m 0.1767  \u001b[0m | \u001b[0m 14.75   \u001b[0m | \u001b[0m 19.62   \u001b[0m | \u001b[0m 18.51   \u001b[0m | \u001b[0m 178.8   \u001b[0m |\n",
      "| \u001b[0m 5       \u001b[0m | \u001b[0m 0.6527  \u001b[0m | \u001b[0m 0.08388 \u001b[0m | \u001b[0m 24.72   \u001b[0m | \u001b[0m 19.55   \u001b[0m | \u001b[0m 4.27    \u001b[0m | \u001b[0m 184.2   \u001b[0m |\n",
      "| \u001b[95m 6       \u001b[0m | \u001b[95m 0.7137  \u001b[0m | \u001b[95m 0.1433  \u001b[0m | \u001b[95m 8.99    \u001b[0m | \u001b[95m 86.8    \u001b[0m | \u001b[95m 15.78   \u001b[0m | \u001b[95m 101.2   \u001b[0m |\n",
      "| \u001b[0m 7       \u001b[0m | \u001b[0m 0.654   \u001b[0m | \u001b[0m 0.1448  \u001b[0m | \u001b[0m 27.08   \u001b[0m | \u001b[0m 87.58   \u001b[0m | \u001b[0m 19.02   \u001b[0m | \u001b[0m 298.1   \u001b[0m |\n",
      "| \u001b[0m 8       \u001b[0m | \u001b[0m 0.675   \u001b[0m | \u001b[0m 0.14    \u001b[0m | \u001b[0m 2.847   \u001b[0m | \u001b[0m 86.87   \u001b[0m | \u001b[0m 2.031   \u001b[0m | \u001b[0m 112.9   \u001b[0m |\n",
      "| \u001b[0m 9       \u001b[0m | \u001b[0m 0.6784  \u001b[0m | \u001b[0m 0.1543  \u001b[0m | \u001b[0m 2.656   \u001b[0m | \u001b[0m 87.43   \u001b[0m | \u001b[0m 18.98   \u001b[0m | \u001b[0m 108.0   \u001b[0m |\n",
      "| \u001b[0m 10      \u001b[0m | \u001b[0m 0.6676  \u001b[0m | \u001b[0m 0.1159  \u001b[0m | \u001b[0m 2.104   \u001b[0m | \u001b[0m 87.84   \u001b[0m | \u001b[0m 12.47   \u001b[0m | \u001b[0m 104.9   \u001b[0m |\n",
      "=====================================================================================\n"
     ]
    }
   ],
   "source": [
    "f, p = gbc_optimization(4)\n",
    "model = train(trainx ,trainy,testx,testy, f,p)"
   ]
  },
  {
   "cell_type": "code",
   "execution_count": 61,
   "metadata": {},
   "outputs": [
    {
     "data": {
      "text/plain": [
       "0.809"
      ]
     },
     "execution_count": 61,
     "metadata": {},
     "output_type": "execute_result"
    }
   ],
   "source": [
    "from sklearn.metrics import f1_score\n",
    "round(f1_score(trainy, model.predict(trainx)),3)"
   ]
  },
  {
   "cell_type": "code",
   "execution_count": 62,
   "metadata": {},
   "outputs": [
    {
     "data": {
      "text/plain": [
       "0.705"
      ]
     },
     "execution_count": 62,
     "metadata": {},
     "output_type": "execute_result"
    }
   ],
   "source": [
    "round(f1_score(testy, model.predict(testx)),3)"
   ]
  },
  {
   "cell_type": "markdown",
   "metadata": {},
   "source": [
    "Выводим топ 20 признаков, которые имеют наибольшую важность"
   ]
  },
  {
   "cell_type": "code",
   "execution_count": 74,
   "metadata": {},
   "outputs": [
    {
     "data": {
      "text/html": [
       "<div>\n",
       "<style scoped>\n",
       "    .dataframe tbody tr th:only-of-type {\n",
       "        vertical-align: middle;\n",
       "    }\n",
       "\n",
       "    .dataframe tbody tr th {\n",
       "        vertical-align: top;\n",
       "    }\n",
       "\n",
       "    .dataframe thead th {\n",
       "        text-align: right;\n",
       "    }\n",
       "</style>\n",
       "<table border=\"1\" class=\"dataframe\">\n",
       "  <thead>\n",
       "    <tr style=\"text-align: right;\">\n",
       "      <th></th>\n",
       "      <th>features</th>\n",
       "      <th>importance</th>\n",
       "    </tr>\n",
       "  </thead>\n",
       "  <tbody>\n",
       "    <tr>\n",
       "      <th>16</th>\n",
       "      <td>x1_Married-civ-spouse</td>\n",
       "      <td>0.323203</td>\n",
       "    </tr>\n",
       "    <tr>\n",
       "      <th>3</th>\n",
       "      <td>capital-gain</td>\n",
       "      <td>0.201264</td>\n",
       "    </tr>\n",
       "    <tr>\n",
       "      <th>1</th>\n",
       "      <td>education-num</td>\n",
       "      <td>0.146312</td>\n",
       "    </tr>\n",
       "    <tr>\n",
       "      <th>4</th>\n",
       "      <td>capital-loss</td>\n",
       "      <td>0.073149</td>\n",
       "    </tr>\n",
       "    <tr>\n",
       "      <th>0</th>\n",
       "      <td>age</td>\n",
       "      <td>0.072384</td>\n",
       "    </tr>\n",
       "    <tr>\n",
       "      <th>5</th>\n",
       "      <td>hours-per-week</td>\n",
       "      <td>0.053754</td>\n",
       "    </tr>\n",
       "    <tr>\n",
       "      <th>24</th>\n",
       "      <td>x2_Exec-managerial</td>\n",
       "      <td>0.012729</td>\n",
       "    </tr>\n",
       "    <tr>\n",
       "      <th>11</th>\n",
       "      <td>x0_Self-emp-not-inc</td>\n",
       "      <td>0.007908</td>\n",
       "    </tr>\n",
       "    <tr>\n",
       "      <th>28</th>\n",
       "      <td>x2_Other-service</td>\n",
       "      <td>0.007063</td>\n",
       "    </tr>\n",
       "    <tr>\n",
       "      <th>40</th>\n",
       "      <td>x3_Wife</td>\n",
       "      <td>0.005696</td>\n",
       "    </tr>\n",
       "    <tr>\n",
       "      <th>2</th>\n",
       "      <td>sex</td>\n",
       "      <td>0.005364</td>\n",
       "    </tr>\n",
       "    <tr>\n",
       "      <th>25</th>\n",
       "      <td>x2_Farming-fishing</td>\n",
       "      <td>0.005141</td>\n",
       "    </tr>\n",
       "    <tr>\n",
       "      <th>10</th>\n",
       "      <td>x0_Self-emp-inc</td>\n",
       "      <td>0.004335</td>\n",
       "    </tr>\n",
       "    <tr>\n",
       "      <th>35</th>\n",
       "      <td>x3_Husband</td>\n",
       "      <td>0.004029</td>\n",
       "    </tr>\n",
       "    <tr>\n",
       "      <th>7</th>\n",
       "      <td>x0_Local-gov</td>\n",
       "      <td>0.003941</td>\n",
       "    </tr>\n",
       "    <tr>\n",
       "      <th>6</th>\n",
       "      <td>x0_Federal-gov</td>\n",
       "      <td>0.003284</td>\n",
       "    </tr>\n",
       "    <tr>\n",
       "      <th>32</th>\n",
       "      <td>x2_Sales</td>\n",
       "      <td>0.003209</td>\n",
       "    </tr>\n",
       "    <tr>\n",
       "      <th>33</th>\n",
       "      <td>x2_Tech-support</td>\n",
       "      <td>0.003136</td>\n",
       "    </tr>\n",
       "    <tr>\n",
       "      <th>23</th>\n",
       "      <td>x2_Craft-repair</td>\n",
       "      <td>0.002926</td>\n",
       "    </tr>\n",
       "    <tr>\n",
       "      <th>30</th>\n",
       "      <td>x2_Prof-specialty</td>\n",
       "      <td>0.002726</td>\n",
       "    </tr>\n",
       "  </tbody>\n",
       "</table>\n",
       "</div>"
      ],
      "text/plain": [
       "                 features  importance\n",
       "16  x1_Married-civ-spouse    0.323203\n",
       "3            capital-gain    0.201264\n",
       "1           education-num    0.146312\n",
       "4            capital-loss    0.073149\n",
       "0                     age    0.072384\n",
       "5          hours-per-week    0.053754\n",
       "24     x2_Exec-managerial    0.012729\n",
       "11    x0_Self-emp-not-inc    0.007908\n",
       "28       x2_Other-service    0.007063\n",
       "40                x3_Wife    0.005696\n",
       "2                     sex    0.005364\n",
       "25     x2_Farming-fishing    0.005141\n",
       "10        x0_Self-emp-inc    0.004335\n",
       "35             x3_Husband    0.004029\n",
       "7            x0_Local-gov    0.003941\n",
       "6          x0_Federal-gov    0.003284\n",
       "32               x2_Sales    0.003209\n",
       "33        x2_Tech-support    0.003136\n",
       "23        x2_Craft-repair    0.002926\n",
       "30      x2_Prof-specialty    0.002726"
      ]
     },
     "execution_count": 74,
     "metadata": {},
     "output_type": "execute_result"
    }
   ],
   "source": [
    "imp = pd.DataFrame(zip(trainx.columns,\n",
    "                       model.feature_importances_), \n",
    "                   columns=['features', 'importance'])\n",
    "imp.sort_values(by='importance',ascending=False).head(20)"
   ]
  },
  {
   "cell_type": "markdown",
   "metadata": {},
   "source": [
    "# Выводы"
   ]
  },
  {
   "cell_type": "markdown",
   "metadata": {},
   "source": [
    "Модели RandomForest и GradientBoostingClassifier по метрике f1 показали наилучшую точность на обучающей выборке, 0.82 и 0.81 соостветсвенно. Но эти модели переобучались, оценки f1 на тестовой выборке 0.706 и 0.705.\n",
    "\n",
    "Наилучшей можено считать модель Catboost, f1 на обучающей выборке 0.77, а на тестовой выборке 0.72.\n",
    "Хотя при обучении catboost-а боролись с несбалансированностью и применили pca"
   ]
  },
  {
   "cell_type": "code",
   "execution_count": null,
   "metadata": {},
   "outputs": [],
   "source": []
  }
 ],
 "metadata": {
  "kernelspec": {
   "display_name": "Python 3",
   "language": "python",
   "name": "python3"
  },
  "language_info": {
   "codemirror_mode": {
    "name": "ipython",
    "version": 3
   },
   "file_extension": ".py",
   "mimetype": "text/x-python",
   "name": "python",
   "nbconvert_exporter": "python",
   "pygments_lexer": "ipython3",
   "version": "3.7.3"
  },
  "toc": {
   "base_numbering": 1,
   "nav_menu": {},
   "number_sections": true,
   "sideBar": true,
   "skip_h1_title": false,
   "title_cell": "Table of Contents",
   "title_sidebar": "Contents",
   "toc_cell": false,
   "toc_position": {},
   "toc_section_display": true,
   "toc_window_display": true
  },
  "varInspector": {
   "cols": {
    "lenName": 16,
    "lenType": 16,
    "lenVar": 40
   },
   "kernels_config": {
    "python": {
     "delete_cmd_postfix": "",
     "delete_cmd_prefix": "del ",
     "library": "var_list.py",
     "varRefreshCmd": "print(var_dic_list())"
    },
    "r": {
     "delete_cmd_postfix": ") ",
     "delete_cmd_prefix": "rm(",
     "library": "var_list.r",
     "varRefreshCmd": "cat(var_dic_list()) "
    }
   },
   "types_to_exclude": [
    "module",
    "function",
    "builtin_function_or_method",
    "instance",
    "_Feature"
   ],
   "window_display": false
  }
 },
 "nbformat": 4,
 "nbformat_minor": 2
}
